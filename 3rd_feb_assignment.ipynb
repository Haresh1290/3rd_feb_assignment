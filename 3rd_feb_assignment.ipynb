{
 "cells": [
  {
   "cell_type": "code",
   "execution_count": 6,
   "id": "47039654-0b20-45d9-9d33-6ccee886fb43",
   "metadata": {},
   "outputs": [],
   "source": [
    "# Problem-1 \n",
    "# The def keyword is used to create, (or define) a function.\n",
    "def odd_numbers(n):\n",
    "  return [x for x in range(n + 1) if x % 2 == 1]"
   ]
  },
  {
   "cell_type": "code",
   "execution_count": 7,
   "id": "1fac8b30-4c78-4e6f-96ad-05dc83fb3dc1",
   "metadata": {},
   "outputs": [
    {
     "data": {
      "text/plain": [
       "[1, 3, 5, 7, 9, 11, 13, 15, 17, 19, 21, 23, 25]"
      ]
     },
     "execution_count": 7,
     "metadata": {},
     "output_type": "execute_result"
    }
   ],
   "source": [
    "odd_numbers(25)"
   ]
  },
  {
   "cell_type": "code",
   "execution_count": 9,
   "id": "e7027cd7-fa66-4570-8d6b-4ab2c0582c63",
   "metadata": {},
   "outputs": [
    {
     "name": "stdout",
     "output_type": "stream",
     "text": [
      "Sum: 8\n",
      "Sum: 22\n",
      "Sum: 17\n",
      "\n",
      "Data type of argument: <class 'dict'>\n",
      "Firstname is Sita\n",
      "Lastname is Sharma\n",
      "Age is 22\n",
      "Phone is 1234567890\n",
      "\n",
      "Data type of argument: <class 'dict'>\n",
      "Firstname is John\n",
      "Lastname is Wood\n",
      "Email is johnwood@nomail.com\n",
      "Country is Wakanda\n",
      "Age is 25\n",
      "Phone is 9876543210\n"
     ]
    }
   ],
   "source": [
    "# Problem-2\n",
    "\n",
    "\"\"\"Python *args\n",
    "As in the below example we are not sure about the number of arguments that can be passed to a function. Python has *args which allow us to pass the variable number of non keyword arguments to function.\n",
    "\n",
    "In the function, we should use an asterisk * before the parameter name to pass variable length arguments.The arguments are passed as a tuple and these passed arguments make tuple inside the function with same name as the parameter excluding asterisk *.\"\"\"\n",
    "\n",
    "def adder(*num):\n",
    "    sum = 0\n",
    "    \n",
    "    for n in num:\n",
    "        sum = sum + n\n",
    "\n",
    "    print(\"Sum:\",sum)\n",
    "\n",
    "adder(3,5)\n",
    "adder(4,5,6,7)\n",
    "adder(1,2,3,5,6)\n",
    "\n",
    "\"\"\"Python **kwargs\n",
    "Python passes variable length non keyword argument to function using *args but we cannot use this to pass keyword argument. For this problem Python has got a solution called **kwargs, it allows us to pass the variable length of keyword arguments to the function.\n",
    "\n",
    "In the function, we use the double asterisk ** before the parameter name to denote this type of argument. The arguments are passed as a dictionary and these arguments make a dictionary inside function with name same as the parameter excluding double asterisk **.\"\"\"\n",
    "\n",
    "def intro(**data):\n",
    "    print(\"\\nData type of argument:\",type(data))\n",
    "\n",
    "    for key, value in data.items():\n",
    "        print(\"{} is {}\".format(key,value))\n",
    "\n",
    "intro(Firstname=\"Sita\", Lastname=\"Sharma\", Age=22, Phone=1234567890)\n",
    "intro(Firstname=\"John\", Lastname=\"Wood\", Email=\"johnwood@nomail.com\", Country=\"Wakanda\", Age=25, Phone=9876543210)\n",
    "\n",
    "\n"
   ]
  },
  {
   "cell_type": "code",
   "execution_count": 36,
   "id": "f42e5e75-6a20-40ed-9a57-5416f0931896",
   "metadata": {},
   "outputs": [
    {
     "data": {
      "text/plain": [
       "[[2, 4, 6, 8, 10]]"
      ]
     },
     "execution_count": 36,
     "metadata": {},
     "output_type": "execute_result"
    }
   ],
   "source": [
    "# Problem - 3\n",
    "\n",
    "\n",
    "\"\"\"Iterator in Python is an object that is used to iterate over iterable objects like lists, tuples, dicts, and sets. The iterator object is initialized using the iter() method. It uses the next() method for iteration.\n",
    "\n",
    "__iter__(): The iter() method is called for the initialization of an iterator. This returns an iterator object\n",
    "__next__(): The next method returns the next value for the iterable. When we use a for loop to traverse any iterable object, internally it uses the iter() method to get an iterator object, which further uses the next() method to iterate over. This method raises a StopIteration to signal the end of the iteration.\"\"\"\n",
    "\n",
    "def printValues(a):\n",
    "    l1=[]\n",
    "    for i in a:\n",
    "        l1.append(a[0:5])\n",
    "        return l1\n",
    "\n",
    "\n",
    "\n",
    "\n",
    "l = [2, 4, 6, 8, 10, 12, 14,16, 18, 20]\n",
    "\n",
    "printValues(l)\n"
   ]
  },
  {
   "cell_type": "code",
   "execution_count": 1,
   "id": "8e810869-ce0e-48e3-a2c1-21c159fc719b",
   "metadata": {},
   "outputs": [
    {
     "name": "stdout",
     "output_type": "stream",
     "text": [
      "0\n",
      "1\n",
      "2\n",
      "3\n",
      "4\n",
      "5\n",
      "6\n"
     ]
    }
   ],
   "source": [
    "# Problem - 4\n",
    "\"\"\"\n",
    "In Python, a generator is a function that returns an iterator that produces a sequence of values when iterated over.\n",
    "Generators are useful when we want to produce a large sequence of values, but we don't want to store all of them in memory at once.\n",
    "In Python, similar to defining a normal function, we can define a generator function using the def keyword, but instead of the return statement we use the yield statement.\n",
    "Here, the yield keyword is used to produce a value from the generator.\n",
    "When the generator function is called, it does not execute the function body immediately. Instead, it returns a generator object that can be iterated over to produce the values.\n",
    "\"\"\"\n",
    "def my_generator(n):\n",
    "    value = 0\n",
    "    while value < n:\n",
    "        yield value\n",
    "        value += 1\n",
    "\n",
    "\n",
    "for value in my_generator(7):\n",
    "    print(value)\n"
   ]
  },
  {
   "cell_type": "code",
   "execution_count": 48,
   "id": "50544020-db57-4f09-a262-8475b0cc0d8d",
   "metadata": {},
   "outputs": [
    {
     "data": {
      "text/plain": [
       "<filter at 0x7febf2dd52d0>"
      ]
     },
     "execution_count": 48,
     "metadata": {},
     "output_type": "execute_result"
    }
   ],
   "source": [
    "# problem - 5\n",
    "\n",
    "def is_prime(num):\n",
    "    \"\"\"Returns True if the number is prime\n",
    "    else False.\"\"\"\n",
    "    if num == 0 or num == 1:\n",
    "        return False\n",
    "    for x in range(2, num):\n",
    "        if num % x == 0:\n",
    "            return False\n",
    "    else:\n",
    "        return True\n",
    "\n",
    "filter(is_prime, range(1, 20))"
   ]
  },
  {
   "cell_type": "code",
   "execution_count": 4,
   "id": "bf70d215-495e-4c4f-a30f-0b497b0363bf",
   "metadata": {},
   "outputs": [
    {
     "name": "stdin",
     "output_type": "stream",
     "text": [
      "Enter the number 10\n"
     ]
    },
    {
     "name": "stdout",
     "output_type": "stream",
     "text": [
      "0\n",
      "1\n",
      "1\n",
      "2\n",
      "3\n",
      "5\n",
      "8\n",
      "13\n",
      "21\n"
     ]
    }
   ],
   "source": [
    "# Problem -6\n",
    "\n",
    "number= int(input(\"Enter the number\"))\n",
    "a,b = 0,1\n",
    "counter = 1\n",
    "while counter <  number :\n",
    "    print(a)\n",
    "    c = b + a\n",
    "    a = b\n",
    "    b = c\n",
    "    counter = counter + 1"
   ]
  },
  {
   "cell_type": "code",
   "execution_count": 23,
   "id": "5c1a2acd-420c-4abf-b7b7-9ecc838c3d4a",
   "metadata": {},
   "outputs": [
    {
     "name": "stdout",
     "output_type": "stream",
     "text": [
      "['p', 'w', 's', 'k', 'i', 'l', 'l', 's']\n"
     ]
    }
   ],
   "source": [
    "# problem - 7\n",
    "# for loop\n",
    "# h = \"pwskills\"\n",
    "# h1 = []\n",
    "# for x in h:\n",
    "#     h1.append(x)\n",
    "# h1\n",
    "\n",
    " # Comprehension\n",
    "h1 = [x for x in \"pwskills\"]\n",
    "print(h1)"
   ]
  },
  {
   "cell_type": "code",
   "execution_count": 29,
   "id": "3b39bb39-a913-48a8-9501-ebadd415e114",
   "metadata": {},
   "outputs": [
    {
     "name": "stdin",
     "output_type": "stream",
     "text": [
      "Enter the number:  989\n"
     ]
    },
    {
     "name": "stdout",
     "output_type": "stream",
     "text": [
      "The reverse number is:  989\n",
      "The number is a palindrome\n"
     ]
    }
   ],
   "source": [
    "#problem - 8\n",
    "number = int(input(\"Enter the number: \"))\n",
    "temp = number\n",
    "reverse =0\n",
    " \n",
    "while (number > 0):\n",
    "    dig = number % 10\n",
    "    reverse = reverse * 10 + dig\n",
    "    number = number // 10\n",
    "print(\"The reverse number is: \", reverse)\n",
    " \n",
    "if temp==reverse:\n",
    "    print(\"The number is a palindrome\")\n",
    "else:\n",
    "    print(\"The number is not a palindrome\")    "
   ]
  },
  {
   "cell_type": "code",
   "execution_count": 44,
   "id": "5a53ff87-4099-4805-8b6f-231ad516a155",
   "metadata": {},
   "outputs": [
    {
     "data": {
      "text/plain": [
       "[1,\n",
       " 3,\n",
       " 5,\n",
       " 7,\n",
       " 9,\n",
       " 11,\n",
       " 13,\n",
       " 15,\n",
       " 17,\n",
       " 19,\n",
       " 21,\n",
       " 23,\n",
       " 25,\n",
       " 27,\n",
       " 29,\n",
       " 31,\n",
       " 33,\n",
       " 35,\n",
       " 37,\n",
       " 39,\n",
       " 41,\n",
       " 43,\n",
       " 45,\n",
       " 47,\n",
       " 49,\n",
       " 51,\n",
       " 53,\n",
       " 55,\n",
       " 57,\n",
       " 59,\n",
       " 61,\n",
       " 63,\n",
       " 65,\n",
       " 67,\n",
       " 69,\n",
       " 71,\n",
       " 73,\n",
       " 75,\n",
       " 77,\n",
       " 79,\n",
       " 81,\n",
       " 83,\n",
       " 85,\n",
       " 87,\n",
       " 89,\n",
       " 91,\n",
       " 93,\n",
       " 95,\n",
       " 97,\n",
       " 99]"
      ]
     },
     "execution_count": 44,
     "metadata": {},
     "output_type": "execute_result"
    }
   ],
   "source": [
    "# problem - 9\n",
    "[i for i in range(100) if i % 2 == 1]"
   ]
  },
  {
   "cell_type": "code",
   "execution_count": null,
   "id": "ed252e5d-0212-486e-95e5-b25c4fe53b78",
   "metadata": {},
   "outputs": [],
   "source": []
  }
 ],
 "metadata": {
  "kernelspec": {
   "display_name": "Python 3 (ipykernel)",
   "language": "python",
   "name": "python3"
  },
  "language_info": {
   "codemirror_mode": {
    "name": "ipython",
    "version": 3
   },
   "file_extension": ".py",
   "mimetype": "text/x-python",
   "name": "python",
   "nbconvert_exporter": "python",
   "pygments_lexer": "ipython3",
   "version": "3.10.8"
  }
 },
 "nbformat": 4,
 "nbformat_minor": 5
}
